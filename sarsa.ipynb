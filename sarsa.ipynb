{
 "cells": [
  {
   "cell_type": "code",
   "execution_count": 10,
   "metadata": {},
   "outputs": [
    {
     "name": "stdout",
     "output_type": "stream",
     "text": [
      "Requirement already satisfied: matplotlib in /home/EDUNET.ORU.SE/petlih181/.local/lib/python3.5/site-packages (3.0.3)\n",
      "Requirement already satisfied: pyparsing!=2.0.4,!=2.1.2,!=2.1.6,>=2.0.1 in /usr/lib/python3/dist-packages (from matplotlib) (2.0.3)\n",
      "Requirement already satisfied: cycler>=0.10 in /home/EDUNET.ORU.SE/petlih181/.local/lib/python3.5/site-packages (from matplotlib) (0.10.0)\n",
      "Requirement already satisfied: numpy>=1.10.0 in /usr/local/lib/python3.5/dist-packages (from matplotlib) (1.14.0)\n",
      "Requirement already satisfied: python-dateutil>=2.1 in /home/EDUNET.ORU.SE/petlih181/.local/lib/python3.5/site-packages (from matplotlib) (2.8.1)\n",
      "Requirement already satisfied: kiwisolver>=1.0.1 in /home/EDUNET.ORU.SE/petlih181/.local/lib/python3.5/site-packages (from matplotlib) (1.1.0)\n",
      "Requirement already satisfied: six in /usr/lib/python3/dist-packages (from cycler>=0.10->matplotlib) (1.10.0)\n",
      "Requirement already satisfied: setuptools in /usr/lib/python3/dist-packages (from kiwisolver>=1.0.1->matplotlib) (20.7.0)\n",
      "\u001b[33mYou are using pip version 18.1, however version 20.3b1 is available.\n",
      "You should consider upgrading via the 'pip install --upgrade pip' command.\u001b[0m\n"
     ]
    }
   ],
   "source": [
    "!pip install --user matplotlib\n",
    "\n"
   ]
  },
  {
   "cell_type": "code",
   "execution_count": 13,
   "metadata": {},
   "outputs": [],
   "source": [
    "import gym\n",
    "import numpy as np\n",
    "import random\n",
    "import matplotlib.pyplot as plt"
   ]
  },
  {
   "cell_type": "code",
   "execution_count": 14,
   "metadata": {},
   "outputs": [],
   "source": [
    "def epsilon_greedy(Q, S, epsilon):\n",
    "    if random.uniform(0, 1) <= (1 - epsilon + (epsilon / len(Q[S]))):\n",
    "        return np.argmax(Q[S])\n",
    "    \n",
    "    return random.randrange(len(Q[S]))\n",
    "                            "
   ]
  },
  {
   "cell_type": "code",
   "execution_count": 15,
   "metadata": {},
   "outputs": [],
   "source": [
    "def sarsa(env, gamma, number_of_episodes=500, step_size=0.1, epsilon=0.1):\n",
    "    Q = np.zeros((env.nS, env.nA))\n",
    "    sum_of_steps = []\n",
    "    for episode in range(number_of_episodes):\n",
    "        S = env.reset()\n",
    "        done = False\n",
    "        step_count = 0\n",
    "        A = epsilon_greedy(Q, S, epsilon)\n",
    "        \n",
    "        while not done:\n",
    "            S_next, reward, done, info = env.step(A)\n",
    "            A_next = epsilon_greedy(Q, S_next, epsilon)\n",
    "            step_count += 1\n",
    "            \n",
    "            if done:\n",
    "                Q[S,A] = 0\n",
    "                sum_of_steps.append(step_count)\n",
    "            else:\n",
    "                Q[S,A] = Q[S,A] + step_size * (reward + gamma * (Q[S_next,A_next] - Q[S,A]))\n",
    "            \n",
    "            S = S_next\n",
    "            A = A_next\n",
    "            \n",
    "    plt.plot(range(number_of_episodes), sum_of_steps)\n",
    "    plt.ylabel('Total number of steps')\n",
    "    plt.ylabel('Episode')\n",
    "    plt.show()\n",
    "    return Q"
   ]
  },
  {
   "cell_type": "code",
   "execution_count": 16,
   "metadata": {},
   "outputs": [],
   "source": [
    "def expected_sum(Q, S, epsilon):\n",
    "    sum = 0\n",
    "    number_of_actions = len(Q[S])\n",
    "    A_optimal = np.argmax(Q[S])\n",
    "    for A in range(number_of_actions):\n",
    "        if A == A_optimal:\n",
    "            sum += (1 - epsilon + epsilon / number_of_actions) * Q[S, A]\n",
    "        else:\n",
    "            sum += (epsilon / number_of_actions) * Q[S, A]\n",
    "    return sum"
   ]
  },
  {
   "cell_type": "code",
   "execution_count": 18,
   "metadata": {},
   "outputs": [],
   "source": [
    "def expected_sarsa(env, gamma, number_of_episodes=500, step_size=0.1, epsilon=0.1):\n",
    "    Q = np.zeros((env.nS, env.nA))\n",
    "    sum_of_steps = []\n",
    "    for episode in range(number_of_episodes):\n",
    "        S = env.reset()\n",
    "        done = False\n",
    "        step_count = 0\n",
    "        A = epsilon_greedy(Q, S, epsilon)\n",
    "        \n",
    "        while not done:\n",
    "            S_next, reward, done, info = env.step(A)\n",
    "            A_next = epsilon_greedy(Q, S_next, epsilon)\n",
    "            step_count += 1\n",
    "            \n",
    "            if done:\n",
    "                Q[S,A] = 0\n",
    "                sum_of_steps.append(step_count)\n",
    "            else:\n",
    "                Q[S,A] = Q[S,A] + step_size * (reward + gamma * (expected_sum(Q, S_next, epsilon) - Q[S,A]))\n",
    "            \n",
    "            S = S_next\n",
    "            A = A_next\n",
    "            \n",
    "    plt.plot(range(number_of_episodes), sum_of_steps)\n",
    "    plt.ylabel('Total number of steps')\n",
    "    plt.ylabel('Episode')\n",
    "    plt.show()\n",
    "    return Q"
   ]
  },
  {
   "cell_type": "code",
   "execution_count": 23,
   "metadata": {},
   "outputs": [
    {
     "data": {
      "image/png": "[encoded data removed]",
      "text/plain": [
       "<Figure size 432x288 with 1 Axes>"
      ]
     },
     "metadata": {
      "needs_background": "light"
     },
     "output_type": "display_data"
    },
    {
     "name": "stdout",
     "output_type": "stream",
     "text": [
      "o  o  o  o  o  o  o  o  o  o  o  o\n",
      "o  o  o  o  o  o  o  o  o  o  o  o\n",
      "o  o  o  o  o  o  o  o  o  o  o  o\n",
      "x  C  C  C  C  C  C  C  C  C  C  T\n",
      "\n",
      "Total reward:  -15 in steps: 15\n"
     ]
    }
   ],
   "source": [
    "\n",
    "env = gym.make('CliffWalking-v0')\n",
    "env.reset()\n",
    "\n",
    "Q = expected_sarsa(env, 1.0, 500, epsilon=0.1, step_size= 0.1)\n",
    "\n",
    "env.reset()\n",
    "done = False\n",
    "steps = 0\n",
    "state = env.s\n",
    "total_reward = 0\n",
    "env.render()\n",
    "while not done:\n",
    "    state, reward, done, info = env.step(np.argmax(Q[state]))\n",
    "    total_reward += reward\n",
    "    steps += 1\n",
    "    #env.render()\n",
    "\n",
    "print('Total reward: ', total_reward, 'in steps:', steps)\n"
   ]
  },
  {
   "cell_type": "code",
   "execution_count": null,
   "metadata": {},
   "outputs": [],
   "source": [
    "env = gym.make('FrozenLake-v0')\n",
    "env.reset()\n",
    "\n",
    "Q = expected_sarsa(env, 1.0, 500)\n",
    "\n",
    "env.reset()\n",
    "done = False\n",
    "steps = 0\n",
    "state = env.s\n",
    "total_reward = 0\n",
    "#env.render()\n",
    "while not done:\n",
    "    state, reward, done, info = env.step(np.argmax(Q[state]))\n",
    "    total_reward += reward\n",
    "    steps += 1\n",
    "    #env.render()\n",
    "\n",
    "print('Total reward: ', total_reward, 'in steps:', steps)"
   ]
  },
  {
   "cell_type": "code",
   "execution_count": null,
   "metadata": {},
   "outputs": [],
   "source": []
  }
 ],
 "metadata": {
  "kernelspec": {
   "display_name": "Python 3",
   "language": "python",
   "name": "python3"
  },
  "language_info": {
   "codemirror_mode": {
    "name": "ipython",
    "version": 3
   },
   "file_extension": ".py",
   "mimetype": "text/x-python",
   "name": "python",
   "nbconvert_exporter": "python",
   "pygments_lexer": "ipython3",
   "version": "3.5.2"
  }
 },
 "nbformat": 4,
 "nbformat_minor": 4
}

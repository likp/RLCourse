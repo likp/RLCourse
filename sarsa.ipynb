{
 "cells": [
  {
   "cell_type": "code",
   "execution_count": 45,
   "metadata": {
    "colab": {
     "base_uri": "https://localhost:8080/"
    },
    "executionInfo": {
     "elapsed": 3923,
     "status": "ok",
     "timestamp": 1604649124805,
     "user": {
      "displayName": "Petros Likidis",
      "photoUrl": "https://lh3.googleusercontent.com/a-/AOh14Gi8o0YagqTF0c2IVILjHoIhdUwx4jJ1FL89rkWXfw=s64",
      "userId": "13211937207573446088"
     },
     "user_tz": -60
    },
    "id": "XfVv8L5FXO-V",
    "outputId": "9471203d-b7a0-414d-e30a-43c70b997f50"
   },
   "outputs": [
    {
     "name": "stdout",
     "output_type": "stream",
     "text": [
      "Requirement already satisfied: matplotlib in /home/EDUNET.ORU.SE/petlih181/.local/lib/python3.5/site-packages (3.0.3)\n",
      "Requirement already satisfied: kiwisolver>=1.0.1 in /home/EDUNET.ORU.SE/petlih181/.local/lib/python3.5/site-packages (from matplotlib) (1.1.0)\n",
      "Requirement already satisfied: cycler>=0.10 in /home/EDUNET.ORU.SE/petlih181/.local/lib/python3.5/site-packages (from matplotlib) (0.10.0)\n",
      "Requirement already satisfied: python-dateutil>=2.1 in /home/EDUNET.ORU.SE/petlih181/.local/lib/python3.5/site-packages (from matplotlib) (2.8.1)\n",
      "Requirement already satisfied: numpy>=1.10.0 in /usr/local/lib/python3.5/dist-packages (from matplotlib) (1.14.0)\n",
      "Requirement already satisfied: pyparsing!=2.0.4,!=2.1.2,!=2.1.6,>=2.0.1 in /usr/lib/python3/dist-packages (from matplotlib) (2.0.3)\n",
      "Requirement already satisfied: setuptools in /usr/lib/python3/dist-packages (from kiwisolver>=1.0.1->matplotlib) (20.7.0)\n",
      "Requirement already satisfied: six in /usr/lib/python3/dist-packages (from cycler>=0.10->matplotlib) (1.10.0)\n",
      "\u001b[33mYou are using pip version 18.1, however version 20.3b1 is available.\n",
      "You should consider upgrading via the 'pip install --upgrade pip' command.\u001b[0m\n"
     ]
    }
   ],
   "source": [
    "!pip install --user matplotlib"
   ]
  },
  {
   "cell_type": "code",
   "execution_count": 15,
   "metadata": {
    "executionInfo": {
     "elapsed": 1188,
     "status": "ok",
     "timestamp": 1604649127151,
     "user": {
      "displayName": "Petros Likidis",
      "photoUrl": "https://lh3.googleusercontent.com/a-/AOh14Gi8o0YagqTF0c2IVILjHoIhdUwx4jJ1FL89rkWXfw=s64",
      "userId": "13211937207573446088"
     },
     "user_tz": -60
    },
    "id": "BudsehWVXO-a"
   },
   "outputs": [],
   "source": [
    "import gym\n",
    "import numpy as np\n",
    "import random\n",
    "import matplotlib.pyplot as plt\n",
    "from collections import defaultdict"
   ]
  },
  {
   "cell_type": "code",
   "execution_count": 16,
   "metadata": {
    "executionInfo": {
     "elapsed": 619,
     "status": "ok",
     "timestamp": 1604649128230,
     "user": {
      "displayName": "Petros Likidis",
      "photoUrl": "https://lh3.googleusercontent.com/a-/AOh14Gi8o0YagqTF0c2IVILjHoIhdUwx4jJ1FL89rkWXfw=s64",
      "userId": "13211937207573446088"
     },
     "user_tz": -60
    },
    "id": "tFDGxzaNXO-e"
   },
   "outputs": [],
   "source": [
    "def epsilon_greedy(Q, S, epsilon):\n",
    "    if random.uniform(0, 1) <= (1 - epsilon + (epsilon / len(Q[S]))):\n",
    "        return np.argmax(Q[S])\n",
    "    \n",
    "    return random.randrange(len(Q[S]))\n",
    "                            "
   ]
  },
  {
   "cell_type": "code",
   "execution_count": 17,
   "metadata": {
    "executionInfo": {
     "elapsed": 738,
     "status": "ok",
     "timestamp": 1604649130510,
     "user": {
      "displayName": "Petros Likidis",
      "photoUrl": "https://lh3.googleusercontent.com/a-/AOh14Gi8o0YagqTF0c2IVILjHoIhdUwx4jJ1FL89rkWXfw=s64",
      "userId": "13211937207573446088"
     },
     "user_tz": -60
    },
    "id": "J0yYoy5ii5fK"
   },
   "outputs": [],
   "source": [
    "def default_state_space(observation):\n",
    "    return observation\n"
   ]
  },
  {
   "cell_type": "code",
   "execution_count": 18,
   "metadata": {},
   "outputs": [],
   "source": [
    "def get_stats(env, Q, state_space_fn, number_of_runs=1000, max_steps=500):\n",
    "    \n",
    "    total_reward = 0\n",
    "    total_steps = 0\n",
    "    for run in range(number_of_runs):\n",
    "        done = False\n",
    "        state = state_space_fn(env.reset())\n",
    "        steps = 0\n",
    "        while not done:\n",
    "            state, reward, done, info = env.step(np.argmax(Q[state]))\n",
    "            state = state_space_fn(state)\n",
    "            total_reward += reward\n",
    "            steps += 1\n",
    "            if steps == max_steps:\n",
    "                break;\n",
    "        total_steps += steps\n",
    "        #print('Run:', run)\n",
    "    return total_reward / number_of_runs, total_steps / number_of_runs\n"
   ]
  },
  {
   "cell_type": "code",
   "execution_count": 19,
   "metadata": {
    "executionInfo": {
     "elapsed": 619,
     "status": "ok",
     "timestamp": 1604649134535,
     "user": {
      "displayName": "Petros Likidis",
      "photoUrl": "https://lh3.googleusercontent.com/a-/AOh14Gi8o0YagqTF0c2IVILjHoIhdUwx4jJ1FL89rkWXfw=s64",
      "userId": "13211937207573446088"
     },
     "user_tz": -60
    },
    "id": "MR1igU8vXO-i"
   },
   "outputs": [],
   "source": [
    "def sarsa(env, gamma, number_of_episodes=500, step_size=0.1, epsilon=0.1, state_space_fn=default_state_space):\n",
    "    Q = defaultdict(lambda: np.zeros(env.action_space.n))\n",
    "    sum_of_steps = []\n",
    "    avg_number_of_steps = []\n",
    "    avg_rewards = []\n",
    "    sample_episodes = np.linspace(0,number_of_episodes,100, False)\n",
    "    \n",
    "    for episode in range(number_of_episodes):\n",
    "        S = state_space_fn(env.reset())\n",
    "        done = False\n",
    "        step_count = 0\n",
    "        A = epsilon_greedy(Q, S, epsilon)\n",
    "        while not done:\n",
    "            S_next, reward, done, info = env.step(A)\n",
    "            S_next = state_space_fn(S_next)\n",
    "            A_next = epsilon_greedy(Q, S_next, epsilon)\n",
    "            step_count += 1\n",
    "            \n",
    "            if done:\n",
    "                Q[S][A] = 0\n",
    "                sum_of_steps.append(step_count)\n",
    "            else:\n",
    "                Q[S][A] = Q[S][A] + step_size * (reward + gamma * (Q[S_next][A_next] - Q[S][A]))\n",
    "            \n",
    "            S = S_next\n",
    "            A = A_next\n",
    "            \n",
    "         \n",
    "        #Get stats of how good it performes after each episod\n",
    "        if episode in sample_episodes:\n",
    "            avg_reward, avg_steps = get_stats(env, Q, state_space_fn)\n",
    "            avg_number_of_steps.append(avg_steps)\n",
    "            avg_rewards.append(avg_reward)\n",
    "            #print('Episod:', episode)\n",
    "            \n",
    "    fig = plt.figure(figsize=(20,10))\n",
    "    plt.plot(sample_episodes, avg_rewards, 'b')\n",
    "    #plt.plot(sample_episodes, avg_number_of_steps, 'r')\n",
    "    plt.ylabel('average reward')\n",
    "    plt.xlabel('Episode')\n",
    "    plt.show()\n",
    "    \n",
    "    return Q"
   ]
  },
  {
   "cell_type": "code",
   "execution_count": 20,
   "metadata": {
    "executionInfo": {
     "elapsed": 848,
     "status": "ok",
     "timestamp": 1604649138140,
     "user": {
      "displayName": "Petros Likidis",
      "photoUrl": "https://lh3.googleusercontent.com/a-/AOh14Gi8o0YagqTF0c2IVILjHoIhdUwx4jJ1FL89rkWXfw=s64",
      "userId": "13211937207573446088"
     },
     "user_tz": -60
    },
    "id": "MvfjTi97XO-l"
   },
   "outputs": [],
   "source": [
    "def expected_sum(Q, S, epsilon):\n",
    "    sum = 0\n",
    "    number_of_actions = len(Q[S])\n",
    "    A_optimal = np.argmax(Q[S])\n",
    "    for A in range(number_of_actions):\n",
    "        if A == A_optimal:\n",
    "            sum += (1 - epsilon + epsilon / number_of_actions) * Q[S][A]\n",
    "        else:\n",
    "            sum += (epsilon / number_of_actions) * Q[S][A]\n",
    "    return sum"
   ]
  },
  {
   "cell_type": "code",
   "execution_count": 21,
   "metadata": {
    "executionInfo": {
     "elapsed": 723,
     "status": "ok",
     "timestamp": 1604649139695,
     "user": {
      "displayName": "Petros Likidis",
      "photoUrl": "https://lh3.googleusercontent.com/a-/AOh14Gi8o0YagqTF0c2IVILjHoIhdUwx4jJ1FL89rkWXfw=s64",
      "userId": "13211937207573446088"
     },
     "user_tz": -60
    },
    "id": "rE90TGs3XO-o"
   },
   "outputs": [],
   "source": [
    "def expected_sarsa(env, gamma, number_of_episodes=500, step_size=0.1, epsilon=0.1, state_space_fn=default_state_space):\n",
    "    Q = defaultdict(lambda: np.zeros(env.action_space.n))\n",
    "    sum_of_steps = []\n",
    "    avg_number_of_steps = []\n",
    "    avg_rewards = []\n",
    "    sample_episodes = np.linspace(0,number_of_episodes,100, False)\n",
    "    \n",
    "    for episode in range(number_of_episodes):\n",
    "        S = state_space_fn(env.reset())\n",
    "        done = False\n",
    "        step_count = 0\n",
    "        A = epsilon_greedy(Q, S, epsilon)\n",
    "        \n",
    "        while not done:\n",
    "            S_next, reward, done, info = env.step(A)\n",
    "            S_next = state_space_fn(S_next)\n",
    "            A_next = epsilon_greedy(Q, S_next, epsilon)\n",
    "            step_count += 1\n",
    "            \n",
    "            if done:\n",
    "                Q[S][A] = 0\n",
    "                sum_of_steps.append(step_count)\n",
    "            else:\n",
    "                Q[S][A] = Q[S][A] + step_size * (reward + gamma * (expected_sum(Q, S_next, epsilon) - Q[S][A]))\n",
    "            \n",
    "            S = S_next\n",
    "            A = A_next\n",
    "            \n",
    "        #Get stats of how good it performes after each episod\n",
    "        if episode in sample_episodes:\n",
    "            avg_reward, avg_steps = get_stats(env, Q, state_space_fn)\n",
    "            avg_number_of_steps.append(avg_steps)\n",
    "            avg_rewards.append(avg_reward)\n",
    "            #print('Episod:', episode)\n",
    "            \n",
    "    fig = plt.figure(figsize=(20,10))\n",
    "    plt.plot(sample_episodes, avg_rewards, 'b')\n",
    "    #plt.plot(sample_episodes, avg_number_of_steps, 'r')\n",
    "    plt.ylabel('average reward')\n",
    "    plt.xlabel('Episode')\n",
    "    plt.show()\n",
    "    \n",
    "    return Q"
   ]
  },
  {
   "cell_type": "code",
   "execution_count": 22,
   "metadata": {
    "colab": {
     "base_uri": "https://localhost:8080/",
     "height": 374
    },
    "executionInfo": {
     "elapsed": 1760,
     "status": "ok",
     "timestamp": 1604649143537,
     "user": {
      "displayName": "Petros Likidis",
      "photoUrl": "https://lh3.googleusercontent.com/a-/AOh14Gi8o0YagqTF0c2IVILjHoIhdUwx4jJ1FL89rkWXfw=s64",
      "userId": "13211937207573446088"
     },
     "user_tz": -60
    },
    "id": "UgdEybf1XO-s",
    "outputId": "04c14469-2ce0-4683-e492-27288dcf8f0d"
   },
   "outputs": [
    {
     "data": {
      "image/png": "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\n",
      "text/plain": [
       "<Figure size 1440x720 with 1 Axes>"
      ]
     },
     "metadata": {
      "needs_background": "light"
     },
     "output_type": "display_data"
    },
    {
     "data": {
      "image/png": "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\n",
      "text/plain": [
       "<Figure size 1440x720 with 1 Axes>"
      ]
     },
     "metadata": {
      "needs_background": "light"
     },
     "output_type": "display_data"
    }
   ],
   "source": [
    "env = gym.make('CliffWalking-v0')\n",
    "env.reset()\n",
    "\n",
    "Q1 = sarsa(env, 1.0, 500, epsilon=0.11, step_size= 0.2)\n",
    "Q2 = expected_sarsa(env, 1.0, 500, epsilon=0.11, step_size= 0.2)\n",
    "\n",
    "env.close()"
   ]
  },
  {
   "cell_type": "code",
   "execution_count": 23,
   "metadata": {
    "colab": {
     "base_uri": "https://localhost:8080/",
     "height": 282
    },
    "executionInfo": {
     "elapsed": 1110,
     "status": "ok",
     "timestamp": 1604498690450,
     "user": {
      "displayName": "",
      "photoUrl": "",
      "userId": ""
     },
     "user_tz": -60
    },
    "id": "n8NO7kROXO-w",
    "outputId": "3fbfbb33-e34f-4900-ee91-7addb270d92a"
   },
   "outputs": [
    {
     "data": {
      "image/png": "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

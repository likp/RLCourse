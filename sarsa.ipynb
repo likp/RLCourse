{
 "cells": [
  {
   "cell_type": "code",
   "execution_count": 1,
   "metadata": {
    "colab": {
     "base_uri": "https://localhost:8080/"
    },
    "executionInfo": {
     "elapsed": 3923,
     "status": "ok",
     "timestamp": 1604649124805,
     "user": {
      "displayName": "Petros Likidis",
      "photoUrl": "https://lh3.googleusercontent.com/a-/AOh14Gi8o0YagqTF0c2IVILjHoIhdUwx4jJ1FL89rkWXfw=s64",
      "userId": "13211937207573446088"
     },
     "user_tz": -60
    },
    "id": "XfVv8L5FXO-V",
    "outputId": "9471203d-b7a0-414d-e30a-43c70b997f50"
   },
   "outputs": [
    {
     "name": "stdout",
     "output_type": "stream",
     "text": [
      "Requirement already satisfied: matplotlib in /home/EDUNET.ORU.SE/petlih181/.local/lib/python3.5/site-packages (3.0.3)\n",
      "Requirement already satisfied: numpy>=1.10.0 in /usr/local/lib/python3.5/dist-packages (from matplotlib) (1.14.0)\n",
      "Requirement already satisfied: pyparsing!=2.0.4,!=2.1.2,!=2.1.6,>=2.0.1 in /usr/lib/python3/dist-packages (from matplotlib) (2.0.3)\n",
      "Requirement already satisfied: kiwisolver>=1.0.1 in /home/EDUNET.ORU.SE/petlih181/.local/lib/python3.5/site-packages (from matplotlib) (1.1.0)\n",
      "Requirement already satisfied: python-dateutil>=2.1 in /home/EDUNET.ORU.SE/petlih181/.local/lib/python3.5/site-packages (from matplotlib) (2.8.1)\n",
      "Requirement already satisfied: cycler>=0.10 in /home/EDUNET.ORU.SE/petlih181/.local/lib/python3.5/site-packages (from matplotlib) (0.10.0)\n",
      "Requirement already satisfied: setuptools in /usr/lib/python3/dist-packages (from kiwisolver>=1.0.1->matplotlib) (20.7.0)\n",
      "Requirement already satisfied: six>=1.5 in /usr/lib/python3/dist-packages (from python-dateutil>=2.1->matplotlib) (1.10.0)\n",
      "\u001b[33mYou are using pip version 18.1, however version 20.3b1 is available.\n",
      "You should consider upgrading via the 'pip install --upgrade pip' command.\u001b[0m\n"
     ]
    }
   ],
   "source": [
    "!pip install --user matplotlib"
   ]
  },
  {
   "cell_type": "code",
   "execution_count": 2,
   "metadata": {
    "executionInfo": {
     "elapsed": 1188,
     "status": "ok",
     "timestamp": 1604649127151,
     "user": {
      "displayName": "Petros Likidis",
      "photoUrl": "https://lh3.googleusercontent.com/a-/AOh14Gi8o0YagqTF0c2IVILjHoIhdUwx4jJ1FL89rkWXfw=s64",
      "userId": "13211937207573446088"
     },
     "user_tz": -60
    },
    "id": "BudsehWVXO-a"
   },
   "outputs": [],
   "source": [
    "import gym\n",
    "import numpy as np\n",
    "import random\n",
    "import matplotlib.pyplot as plt\n",
    "from collections import defaultdict"
   ]
  },
  {
   "cell_type": "code",
   "execution_count": 3,
   "metadata": {
    "executionInfo": {
     "elapsed": 619,
     "status": "ok",
     "timestamp": 1604649128230,
     "user": {
      "displayName": "Petros Likidis",
      "photoUrl": "https://lh3.googleusercontent.com/a-/AOh14Gi8o0YagqTF0c2IVILjHoIhdUwx4jJ1FL89rkWXfw=s64",
      "userId": "13211937207573446088"
     },
     "user_tz": -60
    },
    "id": "tFDGxzaNXO-e"
   },
   "outputs": [],
   "source": [
    "def epsilon_greedy(Q, S, epsilon):\n",
    "    if random.uniform(0, 1) <= (1 - epsilon + (epsilon / len(Q[S]))):\n",
    "        return np.argmax(Q[S])\n",
    "    \n",
    "    return random.randrange(len(Q[S]))\n",
    "                            "
   ]
  },
  {
   "cell_type": "code",
   "execution_count": 4,
   "metadata": {
    "executionInfo": {
     "elapsed": 738,
     "status": "ok",
     "timestamp": 1604649130510,
     "user": {
      "displayName": "Petros Likidis",
      "photoUrl": "https://lh3.googleusercontent.com/a-/AOh14Gi8o0YagqTF0c2IVILjHoIhdUwx4jJ1FL89rkWXfw=s64",
      "userId": "13211937207573446088"
     },
     "user_tz": -60
    },
    "id": "J0yYoy5ii5fK"
   },
   "outputs": [],
   "source": [
    "def default_state_space(observation):\n",
    "  return observation\n"
   ]
  },
  {
   "cell_type": "code",
   "execution_count": 5,
   "metadata": {
    "executionInfo": {
     "elapsed": 619,
     "status": "ok",
     "timestamp": 1604649134535,
     "user": {
      "displayName": "Petros Likidis",
      "photoUrl": "https://lh3.googleusercontent.com/a-/AOh14Gi8o0YagqTF0c2IVILjHoIhdUwx4jJ1FL89rkWXfw=s64",
      "userId": "13211937207573446088"
     },
     "user_tz": -60
    },
    "id": "MR1igU8vXO-i"
   },
   "outputs": [],
   "source": [
    "def sarsa(env, gamma, number_of_episodes=500, step_size=0.1, epsilon=0.1, state_space_fn=default_state_space):\n",
    "    Q = defaultdict(lambda: np.zeros(env.action_space.n))\n",
    "    sum_of_steps = []\n",
    "    for episode in range(number_of_episodes):\n",
    "        S = state_space_fn(env.reset())\n",
    "        done = False\n",
    "        step_count = 0\n",
    "        A = epsilon_greedy(Q, S, epsilon)\n",
    "        \n",
    "        while not done:\n",
    "            S_next, reward, done, info = env.step(A)\n",
    "            S_next = state_space_fn(S_next)\n",
    "            A_next = epsilon_greedy(Q, S_next, epsilon)\n",
    "            step_count += 1\n",
    "            \n",
    "            if done:\n",
    "                Q[S][A] = 0\n",
    "                sum_of_steps.append(step_count)\n",
    "            else:\n",
    "                Q[S][A] = Q[S][A] + step_size * (reward + gamma * (Q[S_next][A_next] - Q[S][A]))\n",
    "            \n",
    "            S = S_next\n",
    "            A = A_next\n",
    "            \n",
    "    plt.plot(range(number_of_episodes), sum_of_steps)\n",
    "\n",
    "    plt.ylabel('Total number of steps')\n",
    "    plt.xlabel('Episode')\n",
    "    plt.show()\n",
    "    \n",
    "    return Q"
   ]
  },
  {
   "cell_type": "code",
   "execution_count": 6,
   "metadata": {
    "executionInfo": {
     "elapsed": 848,
     "status": "ok",
     "timestamp": 1604649138140,
     "user": {
      "displayName": "Petros Likidis",
      "photoUrl": "https://lh3.googleusercontent.com/a-/AOh14Gi8o0YagqTF0c2IVILjHoIhdUwx4jJ1FL89rkWXfw=s64",
      "userId": "13211937207573446088"
     },
     "user_tz": -60
    },
    "id": "MvfjTi97XO-l"
   },
   "outputs": [],
   "source": [
    "def expected_sum(Q, S, epsilon):\n",
    "    sum = 0\n",
    "    number_of_actions = len(Q[S])\n",
    "    A_optimal = np.argmax(Q[S])\n",
    "    for A in range(number_of_actions):\n",
    "        if A == A_optimal:\n",
    "            sum += (1 - epsilon + epsilon / number_of_actions) * Q[S][A]\n",
    "        else:\n",
    "            sum += (epsilon / number_of_actions) * Q[S][A]\n",
    "    return sum"
   ]
  },
  {
   "cell_type": "code",
   "execution_count": 7,
   "metadata": {
    "executionInfo": {
     "elapsed": 723,
     "status": "ok",
     "timestamp": 1604649139695,
     "user": {
      "displayName": "Petros Likidis",
      "photoUrl": "https://lh3.googleusercontent.com/a-/AOh14Gi8o0YagqTF0c2IVILjHoIhdUwx4jJ1FL89rkWXfw=s64",
      "userId": "13211937207573446088"
     },
     "user_tz": -60
    },
    "id": "rE90TGs3XO-o"
   },
   "outputs": [],
   "source": [
    "def expected_sarsa(env, gamma, number_of_episodes=500, step_size=0.1, epsilon=0.1, state_space_fn=default_state_space):\n",
    "    Q = defaultdict(lambda: np.zeros(env.action_space.n))\n",
    "    sum_of_steps = []\n",
    "    \n",
    "    for episode in range(number_of_episodes):\n",
    "        S = state_space_fn(env.reset())\n",
    "        done = False\n",
    "        step_count = 0\n",
    "        A = epsilon_greedy(Q, S, epsilon)\n",
    "        \n",
    "        while not done:\n",
    "            S_next, reward, done, info = env.step(A)\n",
    "            S_next = state_space_fn(S_next)\n",
    "            A_next = epsilon_greedy(Q, S_next, epsilon)\n",
    "            step_count += 1\n",
    "            \n",
    "            if done:\n",
    "                Q[S][A] = 0\n",
    "                sum_of_steps.append(step_count)\n",
    "            else:\n",
    "                Q[S][A] = Q[S][A] + step_size * (reward + gamma * (expected_sum(Q, S_next, epsilon) - Q[S][A]))\n",
    "            \n",
    "            S = S_next\n",
    "            A = A_next\n",
    "            \n",
    "    plt.plot(range(number_of_episodes), sum_of_steps)\n",
    "    plt.ylabel('Total number of steps')\n",
    "    plt.xlabel('Episode')\n",
    "    plt.show()\n",
    "    return Q"
   ]
  },
  {
   "cell_type": "code",
   "execution_count": 29,
   "metadata": {
    "colab": {
     "base_uri": "https://localhost:8080/",
     "height": 374
    },
    "executionInfo": {
     "elapsed": 1760,
     "status": "ok",
     "timestamp": 1604649143537,
     "user": {
      "displayName": "Petros Likidis",
      "photoUrl": "https://lh3.googleusercontent.com/a-/AOh14Gi8o0YagqTF0c2IVILjHoIhdUwx4jJ1FL89rkWXfw=s64",
      "userId": "13211937207573446088"
     },
     "user_tz": -60
    },
    "id": "UgdEybf1XO-s",
    "outputId": "04c14469-2ce0-4683-e492-27288dcf8f0d"
   },
   "outputs": [
    {
     "data": {
      "image/png": "[encoded data removed]",
      "text/plain": [
       "<Figure size 432x288 with 1 Axes>"
      ]
     },
     "metadata": {
      "needs_background": "light"
     },
     "output_type": "display_data"
    },
    {
     "name": "stdout",
     "output_type": "stream",
     "text": [
      "Total reward:  -15 in steps: 15\n"
     ]
    }
   ],
   "source": [
    "env = gym.make('CliffWalking-v0')\n",
    "env.reset()\n",
    "\n",
    "#Q = sarsa(env, 1.0, 500, epsilon=0.11, step_size= 0.2)\n",
    "Q = expected_sarsa(env, 1.0, 500, epsilon=0.11, step_size= 0.2)\n",
    "\n",
    "env.reset()\n",
    "done = False\n",
    "steps = 0\n",
    "state = env.s\n",
    "total_reward = 0\n",
    "while not done:\n",
    "    #env.render()\n",
    "    state, reward, done, info = env.step(np.argmax(Q[state]))\n",
    "    total_reward += reward\n",
    "    steps += 1\n",
    "\n",
    "\n",
    "env.close()\n",
    "print('Total reward: ', total_reward, 'in steps:', steps)\n"
   ]
  },
  {
   "cell_type": "code",
   "execution_count": 35,
   "metadata": {
    "colab": {
     "base_uri": "https://localhost:8080/",
     "height": 282
    },
    "executionInfo": {
     "elapsed": 1110,
     "status": "ok",
     "timestamp": 1604498690450,
     "user": {
      "displayName": "",
      "photoUrl": "",
      "userId": ""
     },
     "user_tz": -60
    },
    "id": "n8NO7kROXO-w",
    "outputId": "3fbfbb33-e34f-4900-ee91-7addb270d92a"
   },
   "outputs": [
    {
     "data": {
      "image/png": "[encoded data removed]",
      "text/plain": [
       "<Figure size 432x288 with 1 Axes>"
      ]
     },
     "metadata": {
      "needs_background": "light"
     },
     "output_type": "display_data"
    },
    {
     "name": "stdout",
     "output_type": "stream",
     "text": [
      "Total reward:  -1.0 in steps: 1\n"
     ]
    }
   ],
   "source": [
    "env = gym.make('Blackjack-v0')\n",
    "env.reset()\n",
    "\n",
    "#Q = sarsa(env, 0.9, 50000)\n",
    "Q = expected_sarsa(env, 0.9, 50000)\n",
    "\n",
    "env.reset()\n",
    "done = False\n",
    "steps = 0\n",
    "total_reward = 0\n",
    "\n",
    "while not done:\n",
    "    state, reward, done, info = env.step(np.argmax(Q[state]))\n",
    "    total_reward += reward\n",
    "    steps += 1\n",
    "\n",
    "\n",
    "print('Total reward: ', total_reward, 'in steps:', steps)"
   ]
  },
  {
   "cell_type": "code",
   "execution_count": 41,
   "metadata": {
    "executionInfo": {
     "elapsed": 610,
     "status": "ok",
     "timestamp": 1604649169685,
     "user": {
      "displayName": "Petros Likidis",
      "photoUrl": "https://lh3.googleusercontent.com/a-/AOh14Gi8o0YagqTF0c2IVILjHoIhdUwx4jJ1FL89rkWXfw=s64",
      "userId": "13211937207573446088"
     },
     "user_tz": -60
    },
    "id": "xMiejFRlXr7Z"
   },
   "outputs": [],
   "source": [
    "d_space = [np.linspace(-4.8, 4.8, 40),\n",
    "           np.linspace(-2, 2, 40),\n",
    "           np.linspace(-0.418,0.418, 48),\n",
    "           np.linspace(-2, 2, 40)]\n",
    "\n",
    "def d_cartpole_state_space(observation):\n",
    "    return tuple(int(np.digitize(l, g)) for l, g in zip(observation, d_space))\n",
    "    #return np.digitize(observation[0], cart_position) * cart_position_factor + np.digitize(observation[1], cart_velocity) * cart_velocity_factor + np.digitize(observation[2], pole_angle) * pole_angle_factor + np.digitize(observation[3], pole_angular_velocity) * pole_angular_velocity_factor\n",
    "\n"
   ]
  },
  {
   "cell_type": "code",
   "execution_count": 42,
   "metadata": {},
   "outputs": [
    {
     "data": {
      "image/png": "[encoded data removed]",
      "text/plain": [
       "<Figure size 432x288 with 1 Axes>"
      ]
     },
     "metadata": {
      "needs_background": "light"
     },
     "output_type": "display_data"
    }
   ],
   "source": [
    "env = gym.make('CartPole-v1')\n",
    "env.reset()\n",
    "\n",
    "#Q = sarsa(env, 1.0, 50000, state_space_fn=d_cartpole_state_space)\n",
    "Q = expected_sarsa(env, 1.0, 50000, state_space_fn=d_cartpole_state_space)"
   ]
  },
  {
   "cell_type": "code",
   "execution_count": 44,
   "metadata": {
    "colab": {
     "base_uri": "https://localhost:8080/",
     "height": 663
    },
    "executionInfo": {
     "elapsed": 39664,
     "status": "error",
     "timestamp": 1604652869478,
     "user": {
      "displayName": "Petros Likidis",
      "photoUrl": "https://lh3.googleusercontent.com/a-/AOh14Gi8o0YagqTF0c2IVILjHoIhdUwx4jJ1FL89rkWXfw=s64",
      "userId": "13211937207573446088"
     },
     "user_tz": -60
    },
    "id": "fL3Djfd7XO-z",
    "outputId": "6bfa0d94-44dc-479d-d1e5-dbf4d7d97ded"
   },
   "outputs": [
    {
     "name": "stdout",
     "output_type": "stream",
     "text": [
      "Total reward:  143.0 in steps: 143\n",
      "Total reward:  103.0 in steps: 103\n",
      "Total reward:  183.0 in steps: 183\n",
      "Total reward:  88.0 in steps: 88\n",
      "Total reward:  110.0 in steps: 110\n",
      "Total reward:  185.0 in steps: 185\n",
      "Total reward:  177.0 in steps: 177\n",
      "Total reward:  153.0 in steps: 153\n",
      "Total reward:  153.0 in steps: 153\n",
      "Total reward:  239.0 in steps: 239\n",
      "Total reward:  153.0 in steps: 153\n",
      "Total reward:  176.0 in steps: 176\n",
      "Total reward:  167.0 in steps: 167\n",
      "Total reward:  240.0 in steps: 240\n",
      "Total reward:  218.0 in steps: 218\n",
      "Total reward:  171.0 in steps: 171\n",
      "Total reward:  212.0 in steps: 212\n",
      "Total reward:  189.0 in steps: 189\n",
      "Total reward:  53.0 in steps: 53\n",
      "Total reward:  213.0 in steps: 213\n",
      "Total reward:  127.0 in steps: 127\n",
      "Total reward:  85.0 in steps: 85\n",
      "Total reward:  159.0 in steps: 159\n",
      "Total reward:  181.0 in steps: 181\n",
      "Total reward:  173.0 in steps: 173\n",
      "Total reward:  181.0 in steps: 181\n",
      "Total reward:  88.0 in steps: 88\n",
      "Total reward:  178.0 in steps: 178\n",
      "Total reward:  70.0 in steps: 70\n",
      "Total reward:  217.0 in steps: 217\n",
      "Total reward:  179.0 in steps: 179\n",
      "Total reward:  181.0 in steps: 181\n",
      "Total reward:  55.0 in steps: 55\n",
      "Total reward:  65.0 in steps: 65\n",
      "Total reward:  75.0 in steps: 75\n",
      "Total reward:  62.0 in steps: 62\n",
      "Total reward:  96.0 in steps: 96\n",
      "Total reward:  288.0 in steps: 288\n",
      "Total reward:  209.0 in steps: 209\n",
      "Total reward:  65.0 in steps: 65\n",
      "Total reward:  185.0 in steps: 185\n",
      "Total reward:  145.0 in steps: 145\n",
      "Total reward:  73.0 in steps: 73\n",
      "Total reward:  121.0 in steps: 121\n",
      "Total reward:  235.0 in steps: 235\n",
      "Total reward:  67.0 in steps: 67\n",
      "Total reward:  109.0 in steps: 109\n",
      "Total reward:  207.0 in steps: 207\n",
      "Total reward:  65.0 in steps: 65\n",
      "Total reward:  193.0 in steps: 193\n",
      "Total reward:  118.0 in steps: 118\n",
      "Total reward:  152.0 in steps: 152\n",
      "Total reward:  64.0 in steps: 64\n",
      "Total reward:  166.0 in steps: 166\n",
      "Total reward:  87.0 in steps: 87\n",
      "Total reward:  127.0 in steps: 127\n",
      "Total reward:  225.0 in steps: 225\n",
      "Total reward:  197.0 in steps: 197\n",
      "Total reward:  215.0 in steps: 215\n",
      "Total reward:  207.0 in steps: 207\n",
      "Total reward:  199.0 in steps: 199\n",
      "Total reward:  127.0 in steps: 127\n",
      "Total reward:  92.0 in steps: 92\n",
      "Total reward:  221.0 in steps: 221\n",
      "Total reward:  184.0 in steps: 184\n",
      "Total reward:  207.0 in steps: 207\n",
      "Total reward:  231.0 in steps: 231\n",
      "Total reward:  172.0 in steps: 172\n",
      "Total reward:  165.0 in steps: 165\n",
      "Total reward:  169.0 in steps: 169\n",
      "Total reward:  197.0 in steps: 197\n",
      "Total reward:  48.0 in steps: 48\n",
      "Total reward:  233.0 in steps: 233\n",
      "Total reward:  63.0 in steps: 63\n",
      "Total reward:  187.0 in steps: 187\n",
      "Total reward:  144.0 in steps: 144\n",
      "Total reward:  179.0 in steps: 179\n",
      "Total reward:  223.0 in steps: 223\n",
      "Total reward:  109.0 in steps: 109\n",
      "Total reward:  189.0 in steps: 189\n",
      "Total reward:  159.0 in steps: 159\n",
      "Total reward:  81.0 in steps: 81\n",
      "Total reward:  75.0 in steps: 75\n",
      "Total reward:  207.0 in steps: 207\n",
      "Total reward:  201.0 in steps: 201\n",
      "Total reward:  58.0 in steps: 58\n",
      "Total reward:  87.0 in steps: 87\n",
      "Total reward:  99.0 in steps: 99\n",
      "Total reward:  233.0 in steps: 233\n",
      "Total reward:  60.0 in steps: 60\n",
      "Total reward:  199.0 in steps: 199\n",
      "Total reward:  102.0 in steps: 102\n",
      "Total reward:  101.0 in steps: 101\n",
      "Total reward:  137.0 in steps: 137\n",
      "Total reward:  57.0 in steps: 57\n",
      "Total reward:  125.0 in steps: 125\n",
      "Total reward:  61.0 in steps: 61\n",
      "Total reward:  121.0 in steps: 121\n",
      "Total reward:  187.0 in steps: 187\n",
      "Total reward:  203.0 in steps: 203\n"
     ]
    }
   ],
   "source": [
    "for r in range(100):\n",
    "    state = d_cartpole_state_space(env.reset())\n",
    "    done = False\n",
    "    steps = 0\n",
    "\n",
    "    total_reward = 0\n",
    "    while not done:\n",
    "        env.render()\n",
    "        state, reward, done, info = env.step(np.argmax(Q[state]))\n",
    "        state = d_cartpole_state_space(state)\n",
    "        total_reward += reward\n",
    "        steps += 1\n",
    "\n",
    "    env.close()\n",
    "    print('Total reward: ', total_reward, 'in steps:', steps)"
   ]
  },
  {
   "cell_type": "code",
   "execution_count": null,
   "metadata": {},
   "outputs": [],
   "source": []
  }
 ],
 "metadata": {
  "colab": {
   "collapsed_sections": [],
   "name": "Kopia av sarsa.ipynb",
   "provenance": [
    {
     "file_id": "https://github.com/petroslikidis/RLCourse/blob/main/sarsa.ipynb",
     "timestamp": 1604504935501
    }
   ]
  },
  "kernelspec": {
   "display_name": "Python 3",
   "language": "python",
   "name": "python3"
  },
  "language_info": {
   "codemirror_mode": {
    "name": "ipython",
    "version": 3
   },
   "file_extension": ".py",
   "mimetype": "text/x-python",
   "name": "python",
   "nbconvert_exporter": "python",
   "pygments_lexer": "ipython3",
   "version": "3.5.2"
  }
 },
 "nbformat": 4,
 "nbformat_minor": 4
}

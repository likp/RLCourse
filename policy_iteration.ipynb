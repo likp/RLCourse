{
 "cells": [
  {
   "cell_type": "code",
   "execution_count": 7,
   "metadata": {},
   "outputs": [],
   "source": [
    "import gym\n",
    "import numpy as np"
   ]
  },
  {
   "cell_type": "code",
   "execution_count": 2,
   "metadata": {},
   "outputs": [
    {
     "data": {
      "text/plain": [
       "36"
      ]
     },
     "execution_count": 2,
     "metadata": {},
     "output_type": "execute_result"
    }
   ],
   "source": [
    "env = gym.make('CliffWalking-v0')\n",
    "env.reset()"
   ]
  },
  {
   "cell_type": "code",
   "execution_count": 3,
   "metadata": {},
   "outputs": [
    {
     "data": {
      "text/plain": [
       "array([-0.01091967,  0.01719006, -0.03320604,  0.0194846 ])"
      ]
     },
     "execution_count": 3,
     "metadata": {},
     "output_type": "execute_result"
    }
   ],
   "source": [
    "env = gym.make('CartPole-v1')\n",
    "env.reset()\n"
   ]
  },
  {
   "cell_type": "code",
   "execution_count": 8,
   "metadata": {},
   "outputs": [
    {
     "data": {
      "text/plain": [
       "0"
      ]
     },
     "execution_count": 8,
     "metadata": {},
     "output_type": "execute_result"
    }
   ],
   "source": [
    "env = gym.make('FrozenLake-v0')\n",
    "env.reset()\n",
    "\n"
   ]
  },
  {
   "cell_type": "code",
   "execution_count": 6,
   "metadata": {},
   "outputs": [
    {
     "data": {
      "text/plain": [
       "(15, 6, True)"
      ]
     },
     "execution_count": 6,
     "metadata": {},
     "output_type": "execute_result"
    }
   ],
   "source": [
    "env = gym.make('Blackjack-v0')\n",
    "env.reset()\n"
   ]
  },
  {
   "cell_type": "code",
   "execution_count": 9,
   "metadata": {},
   "outputs": [],
   "source": [
    "def learn_terminal_states(env):\n",
    "    \n",
    "    terminal_states = []\n",
    "    \n",
    "    for s in range(env.nS):\n",
    "        if s in terminal_states:\n",
    "            continue\n",
    "        for a in env.P[s]:\n",
    "            for prob,s_prim,reward,done in env.P[s][a]:\n",
    "                if done:\n",
    "                    if not s_prim in terminal_states:\n",
    "                        terminal_states.append(s_prim)\n",
    "    return terminal_states\n",
    "    "
   ]
  },
  {
   "cell_type": "code",
   "execution_count": 10,
   "metadata": {},
   "outputs": [],
   "source": [
    "\n",
    "def policy_evaluation(env, terminal_states, V, policy, gamma):\n",
    "    print('policy_evaluation')\n",
    "\n",
    "#    while True:\n",
    "    for count in range(10000):\n",
    "        delta = 0\n",
    "        for s in range(env.nS):\n",
    "            if s in terminal_states:\n",
    "                V[s] = 0\n",
    "                continue\n",
    "                \n",
    "            new_v = 0.0\n",
    "            a = policy[s]\n",
    "            for prob,s_prim,reward,done in env.P[s][a]:\n",
    "                new_v += prob * (reward + gamma * V[s_prim])\n",
    "            v = V[s]\n",
    "            V[s] = new_v\n",
    "            delta = max(delta, abs(v - V[s]))\n",
    "        if delta < 0.00001:\n",
    "            break\n",
    "    return V\n",
    "            \n",
    "\n"
   ]
  },
  {
   "cell_type": "code",
   "execution_count": 17,
   "metadata": {},
   "outputs": [],
   "source": [
    "def policy_iteration(env, gamma):\n",
    "\n",
    "    policy_stable = False\n",
    "    V = np.zeros(env.nS)\n",
    "    policy = np.zeros(env.nS)\n",
    "    terminal_states = learn_terminal_states(env)\n",
    "    \n",
    "    while not policy_stable:\n",
    "        V = policy_evaluation(env, terminal_states, V, policy, gamma)\n",
    "\n",
    "        #Policy improvment\n",
    "        policy_stable = True\n",
    "\n",
    "        for s in range(env.nS):\n",
    "            old_p = policy[s]\n",
    "\n",
    "            actions = np.zeros(env.nA)\n",
    "            for a in range(env.nA):\n",
    "                for prob,s_prim,reward,done in env.P[s][a]:\n",
    "                    if done:\n",
    "                        actions[a] += prob * reward \n",
    "                    else:\n",
    "                        actions[a] += prob * (reward + gamma * V[s_prim])\n",
    "\n",
    "            policy[s] = np.argmax(actions)\n",
    "\n",
    "            if policy[s] != old_p:\n",
    "                policy_stable = False\n",
    "    return V, policy"
   ]
  },
  {
   "cell_type": "code",
   "execution_count": 38,
   "metadata": {},
   "outputs": [
    {
     "name": "stdout",
     "output_type": "stream",
     "text": [
      "policy_evaluation\n",
      "policy_evaluation\n",
      "policy_evaluation\n",
      "policy_evaluation\n",
      "policy_evaluation\n",
      "policy_evaluation\n",
      "policy_evaluation\n",
      "\n",
      "\u001b[41mS\u001b[0mFFF\n",
      "FHFH\n",
      "FFFH\n",
      "HFFG\n",
      "Total reward:  1.0 in steps: 22\n",
      "Policy:  [0. 3. 3. 3. 0. 0. 0. 0. 3. 1. 0. 0. 0. 2. 1. 0.]\n"
     ]
    }
   ],
   "source": [
    "V, policy = policy_iteration(env, 1.0)\n",
    "\n",
    "env.reset()\n",
    "done = False\n",
    "steps = 0\n",
    "state = env.s\n",
    "total_reward = 0\n",
    "env.render()\n",
    "while not done:\n",
    "    state, reward, done, info = env.step(policy[state])\n",
    "    total_reward += reward\n",
    "    steps += 1\n",
    "    #env.render()\n",
    "\n",
    "print('Total reward: ', total_reward, 'in steps:', steps)\n",
    "\n",
    "print('Policy: ', policy)\n",
    "#newP = policy\n",
    "#print(newP.reshape(4,4))\n",
    "\n",
    "\n",
    "\n"
   ]
  },
  {
   "cell_type": "code",
   "execution_count": 37,
   "metadata": {},
   "outputs": [
    {
     "data": {
      "text/plain": [
       "{0: [(0.3333333333333333, 10, 0.0, False),\n",
       "  (0.3333333333333333, 13, 0.0, False),\n",
       "  (0.3333333333333333, 14, 0.0, False)],\n",
       " 1: [(0.3333333333333333, 13, 0.0, False),\n",
       "  (0.3333333333333333, 14, 0.0, False),\n",
       "  (0.3333333333333333, 15, 1.0, True)],\n",
       " 2: [(0.3333333333333333, 14, 0.0, False),\n",
       "  (0.3333333333333333, 15, 1.0, True),\n",
       "  (0.3333333333333333, 10, 0.0, False)],\n",
       " 3: [(0.3333333333333333, 15, 1.0, True),\n",
       "  (0.3333333333333333, 10, 0.0, False),\n",
       "  (0.3333333333333333, 13, 0.0, False)]}"
      ]
     },
     "execution_count": 37,
     "metadata": {},
     "output_type": "execute_result"
    }
   ],
   "source": [
    "env.reset()\n",
    "env.P[14]\n"
   ]
  },
  {
   "cell_type": "code",
   "execution_count": null,
   "metadata": {},
   "outputs": [],
   "source": []
  },
  {
   "cell_type": "code",
   "execution_count": null,
   "metadata": {},
   "outputs": [],
   "source": []
  }
 ],
 "metadata": {
  "kernelspec": {
   "display_name": "Python 3",
   "language": "python",
   "name": "python3"
  },
  "language_info": {
   "codemirror_mode": {
    "name": "ipython",
    "version": 3
   },
   "file_extension": ".py",
   "mimetype": "text/x-python",
   "name": "python",
   "nbconvert_exporter": "python",
   "pygments_lexer": "ipython3",
   "version": "3.5.2"
  }
 },
 "nbformat": 4,
 "nbformat_minor": 4
}

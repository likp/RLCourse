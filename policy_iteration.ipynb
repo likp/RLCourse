{
 "cells": [
  {
   "cell_type": "code",
   "execution_count": 51,
   "metadata": {},
   "outputs": [],
   "source": [
    "import gym\n",
    "import numpy as np"
   ]
  },
  {
   "cell_type": "code",
   "execution_count": 52,
   "metadata": {},
   "outputs": [],
   "source": [
    "def learn_terminal_states(env):\n",
    "    \n",
    "    terminal_states = []\n",
    "    \n",
    "    for s in range(env.nS):\n",
    "        if s in terminal_states:\n",
    "            continue\n",
    "        for a in env.P[s]:\n",
    "            for prob,s_prim,reward,done in env.P[s][a]:\n",
    "                if done:\n",
    "                    if not s_prim in terminal_states:\n",
    "                        terminal_states.append(s_prim)\n",
    "    return terminal_states\n",
    "    "
   ]
  },
  {
   "cell_type": "code",
   "execution_count": 53,
   "metadata": {},
   "outputs": [],
   "source": [
    "\n",
    "def policy_evaluation(env, terminal_states, V, policy, gamma):\n",
    "    loop_counter = 0\n",
    "    while True:\n",
    "#    for count in range(10000):\n",
    "        delta = 0\n",
    "        for s in range(env.nS):\n",
    "            if s in terminal_states:\n",
    "                V[s] = 0.0\n",
    "                continue\n",
    "                \n",
    "            new_v = 0.0\n",
    "            a = policy[s]\n",
    "            for prob,s_prim,reward,done in env.P[s][a]:\n",
    "                new_v += prob * (reward + gamma * V[s_prim])\n",
    "            v = V[s]\n",
    "            V[s] = new_v\n",
    "            delta = max(delta, abs(v - V[s]))\n",
    "            loop_counter +=1\n",
    "        if delta < 0.0001:\n",
    "            break\n",
    "    return V, loop_counter\n",
    "            \n",
    "\n"
   ]
  },
  {
   "cell_type": "code",
   "execution_count": 54,
   "metadata": {},
   "outputs": [],
   "source": [
    "def policy_iteration(env, gamma):\n",
    "\n",
    "    policy_stable = False\n",
    "    V = np.zeros(env.nS)\n",
    "    policy = np.zeros(env.nS)\n",
    "    terminal_states = learn_terminal_states(env)\n",
    "    loop_counter = 0\n",
    "    while not policy_stable:\n",
    "        V, counter = policy_evaluation(env, terminal_states, V, policy, gamma)\n",
    "        \n",
    "        loop_counter += counter\n",
    "\n",
    "        #Policy improvment\n",
    "        policy_stable = True\n",
    "\n",
    "        for s in range(env.nS):\n",
    "            old_p = policy[s]\n",
    "\n",
    "            actions = np.zeros(env.nA)\n",
    "            for a in range(env.nA):\n",
    "                for prob,s_prim,reward,done in env.P[s][a]:\n",
    "                    if done:\n",
    "                        actions[a] += prob * reward \n",
    "                    else:\n",
    "                        actions[a] += prob * (reward + gamma * V[s_prim])\n",
    "\n",
    "            policy[s] = np.argmax(actions)\n",
    "\n",
    "            if policy[s] != old_p:\n",
    "                policy_stable = False\n",
    "    print('Number of loops:', loop_counter)\n",
    "    return V, policy"
   ]
  },
  {
   "cell_type": "code",
   "execution_count": 55,
   "metadata": {},
   "outputs": [
    {
     "name": "stdout",
     "output_type": "stream",
     "text": [
      "Number of loops: 5499\n",
      "Mean reward:  -13.0 Mean steps: 13.0\n"
     ]
    }
   ],
   "source": [
    "env = gym.make('CliffWalking-v0')\n",
    "env.reset()\n",
    "\n",
    "V, policy = policy_iteration(env, 0.9)\n",
    "\n",
    "steps = 0\n",
    "total_reward = 0\n",
    "\n",
    "for c in range(1000):\n",
    "    done = False\n",
    "    state = env.reset()\n",
    "    while not done:\n",
    "        state, reward, done, info = env.step(policy[state])\n",
    "        total_reward += reward\n",
    "        steps += 1\n",
    "    \n",
    "env.close()\n",
    "print('Mean reward: ', total_reward/1000, 'Mean steps:', steps/1000)\n"
   ]
  },
  {
   "cell_type": "code",
   "execution_count": 56,
   "metadata": {},
   "outputs": [
    {
     "name": "stdout",
     "output_type": "stream",
     "text": [
      "Number of loops: 968\n",
      "Mean reward:  0.758 Mean steps: 39.516\n"
     ]
    }
   ],
   "source": [
    "env = gym.make('FrozenLake-v0')\n",
    "env.reset()\n",
    "\n",
    "V, policy = policy_iteration(env, 0.9)\n",
    "\n",
    "steps = 0\n",
    "total_reward = 0\n",
    "\n",
    "for c in range(1000):\n",
    "    done = False\n",
    "    state = env.reset()\n",
    "    while not done:\n",
    "        state, reward, done, info = env.step(policy[state])\n",
    "        total_reward += reward\n",
    "        steps += 1\n",
    "    \n",
    "env.close()\n",
    "print('Mean reward: ', total_reward/1000, 'Mean steps:', steps/1000)\n"
   ]
  },
  {
   "cell_type": "code",
   "execution_count": 57,
   "metadata": {},
   "outputs": [
    {
     "name": "stdout",
     "output_type": "stream",
     "text": [
      "Number of loops: 77872\n",
      "Mean reward:  7.834 Mean steps: 13.166\n"
     ]
    }
   ],
   "source": [
    "env = gym.make('Taxi-v3')\n",
    "env.reset()\n",
    "\n",
    "V, policy = policy_iteration(env, 0.9)\n",
    "\n",
    "steps = 0\n",
    "total_reward = 0\n",
    "\n",
    "for c in range(1000):\n",
    "    done = False\n",
    "    state = env.reset()\n",
    "    while not done:\n",
    "        state, reward, done, info = env.step(policy[state])\n",
    "        total_reward += reward\n",
    "        steps += 1\n",
    "    \n",
    "env.close()\n",
    "print('Mean reward: ', total_reward/1000, 'Mean steps:', steps/1000)\n"
   ]
  },
  {
   "cell_type": "code",
   "execution_count": null,
   "metadata": {},
   "outputs": [],
   "source": []
  }
 ],
 "metadata": {
  "kernelspec": {
   "display_name": "Python 3",
   "language": "python",
   "name": "python3"
  },
  "language_info": {
   "codemirror_mode": {
    "name": "ipython",
    "version": 3
   },
   "file_extension": ".py",
   "mimetype": "text/x-python",
   "name": "python",
   "nbconvert_exporter": "python",
   "pygments_lexer": "ipython3",
   "version": "3.5.2"
  }
 },
 "nbformat": 4,
 "nbformat_minor": 4
}

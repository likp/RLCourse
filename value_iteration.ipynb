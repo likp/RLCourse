{
 "cells": [
  {
   "cell_type": "code",
   "execution_count": 1,
   "metadata": {},
   "outputs": [],
   "source": [
    "import gym\n",
    "import numpy as np"
   ]
  },
  {
   "cell_type": "code",
   "execution_count": 2,
   "metadata": {},
   "outputs": [
    {
     "data": {
      "text/plain": [
       "36"
      ]
     },
     "execution_count": 2,
     "metadata": {},
     "output_type": "execute_result"
    }
   ],
   "source": [
    "env = gym.make('CliffWalking-v0')\n",
    "env.reset()"
   ]
  },
  {
   "cell_type": "code",
   "execution_count": 15,
   "metadata": {},
   "outputs": [
    {
     "data": {
      "text/plain": [
       "0"
      ]
     },
     "execution_count": 15,
     "metadata": {},
     "output_type": "execute_result"
    }
   ],
   "source": [
    "env = gym.make('FrozenLake-v0')\n",
    "env.reset()"
   ]
  },
  {
   "cell_type": "code",
   "execution_count": 3,
   "metadata": {},
   "outputs": [],
   "source": [
    "def learn_terminal_states(env):\n",
    "    \n",
    "    terminal_states = []\n",
    "    \n",
    "    for s in range(env.nS):\n",
    "        if s in terminal_states:\n",
    "            continue\n",
    "        for a in env.P[s]:\n",
    "            for prob,s_prim,reward,done in env.P[s][a]:\n",
    "                if done:\n",
    "                    if not s_prim in terminal_states:\n",
    "                        terminal_states.append(s_prim)\n",
    "    return terminal_states"
   ]
  },
  {
   "cell_type": "code",
   "execution_count": 12,
   "metadata": {},
   "outputs": [],
   "source": [
    "def calculate_sums(env, s, V, gamma):\n",
    "    actions = np.zeros(env.nA)\n",
    "    for a in range(env.nA):\n",
    "        for prob,s_prim,reward,done in env.P[s][a]:\n",
    "            actions[a] += prob * (reward + gamma * V[s_prim])\n",
    "\n",
    "    return actions"
   ]
  },
  {
   "cell_type": "code",
   "execution_count": 13,
   "metadata": {},
   "outputs": [],
   "source": [
    "def value_iteration(env, gamma):\n",
    "\n",
    "    V = np.zeros(env.nS)\n",
    "    policy = np.zeros(env.nS)\n",
    "    \n",
    "    terminal_states = learn_terminal_states(env)\n",
    "    \n",
    "    while True:\n",
    "#    for count in range(10000):\n",
    "        delta = 0\n",
    "        for s in range(env.nS):\n",
    "            if s in terminal_states:\n",
    "                V[s] = 0\n",
    "                continue\n",
    "            \n",
    "            v = V[s]\n",
    "            V[s] = np.max(calculate_sums(env, s, V, gamma))\n",
    "                        \n",
    "            delta = max(delta, abs(v - V[s]))\n",
    "        if delta < 0.00001:\n",
    "            break\n",
    "    for s in range(env.nS):\n",
    "        policy[s] = np.argmax(calculate_sums(env, s, V, gamma))\n",
    "    \n",
    "    return policy"
   ]
  },
  {
   "cell_type": "code",
   "execution_count": 23,
   "metadata": {},
   "outputs": [
    {
     "name": "stdout",
     "output_type": "stream",
     "text": [
      "\n",
      "\u001b[41mS\u001b[0mFFF\n",
      "FHFH\n",
      "FFFH\n",
      "HFFG\n",
      "Total reward:  1.0 in steps: 34\n",
      "Policy:  [0. 3. 3. 3. 0. 0. 0. 0. 3. 1. 0. 0. 0. 2. 1. 0.]\n"
     ]
    }
   ],
   "source": [
    "policy = value_iteration(env, 1.0)\n",
    "\n",
    "env.reset()\n",
    "done = False\n",
    "steps = 0\n",
    "state = env.s\n",
    "total_reward = 0\n",
    "env.render()\n",
    "while not done:\n",
    "    state, reward, done, info = env.step(policy[state])\n",
    "    total_reward += reward\n",
    "    steps += 1\n",
    "    #env.render()\n",
    "\n",
    "print('Total reward: ', total_reward, 'in steps:', steps)\n",
    "\n",
    "print('Policy: ', policy)\n",
    "#newP = policy\n",
    "#print(newP.reshape(4,4))"
   ]
  },
  {
   "cell_type": "code",
   "execution_count": null,
   "metadata": {},
   "outputs": [],
   "source": []
  }
 ],
 "metadata": {
  "kernelspec": {
   "display_name": "Python 3",
   "language": "python",
   "name": "python3"
  },
  "language_info": {
   "codemirror_mode": {
    "name": "ipython",
    "version": 3
   },
   "file_extension": ".py",
   "mimetype": "text/x-python",
   "name": "python",
   "nbconvert_exporter": "python",
   "pygments_lexer": "ipython3",
   "version": "3.5.2"
  }
 },
 "nbformat": 4,
 "nbformat_minor": 4
}

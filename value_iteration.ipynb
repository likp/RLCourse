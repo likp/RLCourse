{
 "cells": [
  {
   "cell_type": "code",
   "execution_count": 18,
   "metadata": {},
   "outputs": [],
   "source": [
    "import gym\n",
    "import numpy as np"
   ]
  },
  {
   "cell_type": "code",
   "execution_count": 19,
   "metadata": {},
   "outputs": [],
   "source": [
    "def learn_terminal_states(env):\n",
    "    \n",
    "    terminal_states = []\n",
    "    \n",
    "    for s in range(env.nS):\n",
    "        if s in terminal_states:\n",
    "            continue\n",
    "        for a in env.P[s]:\n",
    "            for prob,s_prim,reward,done in env.P[s][a]:\n",
    "                if done:\n",
    "                    if not s_prim in terminal_states:\n",
    "                        terminal_states.append(s_prim)\n",
    "    return terminal_states"
   ]
  },
  {
   "cell_type": "code",
   "execution_count": 20,
   "metadata": {},
   "outputs": [],
   "source": [
    "def calculate_sums(env, s, V, gamma):\n",
    "    actions = np.zeros(env.nA)\n",
    "    for a in range(env.nA):\n",
    "        for prob,s_prim,reward,done in env.P[s][a]:\n",
    "            actions[a] += prob * (reward + gamma * V[s_prim])\n",
    "\n",
    "    return actions"
   ]
  },
  {
   "cell_type": "code",
   "execution_count": 21,
   "metadata": {},
   "outputs": [],
   "source": [
    "def value_iteration(env, gamma):\n",
    "\n",
    "    V = np.zeros(env.nS)\n",
    "    policy = np.zeros(env.nS)\n",
    "    \n",
    "    terminal_states = learn_terminal_states(env)\n",
    "    loop_counter = 0\n",
    "    while True:\n",
    "#    for count in range(10000):\n",
    "        delta = 0\n",
    "        for s in range(env.nS):\n",
    "            if s in terminal_states:\n",
    "                V[s] = 0\n",
    "                continue\n",
    "            \n",
    "            v = V[s]\n",
    "            V[s] = np.max(calculate_sums(env, s, V, gamma))\n",
    "                        \n",
    "            delta = max(delta, abs(v - V[s]))\n",
    "            loop_counter += 1\n",
    "        if delta < 0.00001:\n",
    "            break\n",
    "    for s in range(env.nS):\n",
    "        policy[s] = np.argmax(calculate_sums(env, s, V, gamma))\n",
    "    \n",
    "    print('Number of loops:', loop_counter)\n",
    "    return policy"
   ]
  },
  {
   "cell_type": "code",
   "execution_count": 22,
   "metadata": {},
   "outputs": [
    {
     "name": "stdout",
     "output_type": "stream",
     "text": [
      "Number of loops: 705\n",
      "Mean reward:  -13.0 Mean steps: 13.0\n"
     ]
    }
   ],
   "source": [
    "env = gym.make('CliffWalking-v0')\n",
    "env.reset()\n",
    "\n",
    "policy = value_iteration(env, 0.9)\n",
    "\n",
    "\n",
    "steps = 0\n",
    "total_reward = 0\n",
    "\n",
    "for c in range(1000):\n",
    "    done = False\n",
    "    state = env.reset()\n",
    "\n",
    "    while not done:\n",
    "        state, reward, done, info = env.step(policy[state])\n",
    "        total_reward += reward\n",
    "        steps += 1\n",
    "\n",
    "env.close()\n",
    "print('Mean reward: ', total_reward/1000, 'Mean steps:', steps/1000)\n"
   ]
  },
  {
   "cell_type": "code",
   "execution_count": 23,
   "metadata": {},
   "outputs": [
    {
     "name": "stdout",
     "output_type": "stream",
     "text": [
      "Number of loops: 528\n",
      "Mean reward:  0.729 Mean steps: 41.038\n"
     ]
    }
   ],
   "source": [
    "env = gym.make('FrozenLake-v0')\n",
    "env.reset()\n",
    "\n",
    "policy = value_iteration(env, 0.9)\n",
    "\n",
    "steps = 0\n",
    "total_reward = 0\n",
    "\n",
    "for c in range(1000):\n",
    "    done = False\n",
    "    state = env.reset()\n",
    "\n",
    "    while not done:\n",
    "        state, reward, done, info = env.step(policy[state])\n",
    "        total_reward += reward\n",
    "        steps += 1\n",
    "\n",
    "env.close()\n",
    "print('Mean reward: ', total_reward/1000, 'Mean steps:', steps/1000)"
   ]
  },
  {
   "cell_type": "code",
   "execution_count": 24,
   "metadata": {},
   "outputs": [
    {
     "name": "stdout",
     "output_type": "stream",
     "text": [
      "Number of loops: 6448\n",
      "Mean reward:  7.856 Mean steps: 13.144\n"
     ]
    }
   ],
   "source": [
    "env = gym.make('Taxi-v3')\n",
    "env.reset()\n",
    "\n",
    "policy = value_iteration(env, 0.9)\n",
    "\n",
    "steps = 0\n",
    "total_reward = 0\n",
    "\n",
    "for c in range(1000):\n",
    "    done = False\n",
    "    state = env.reset()\n",
    "\n",
    "    while not done:\n",
    "        state, reward, done, info = env.step(policy[state])\n",
    "        total_reward += reward\n",
    "        steps += 1\n",
    "\n",
    "env.close()\n",
    "print('Mean reward: ', total_reward/1000, 'Mean steps:', steps/1000)"
   ]
  },
  {
   "cell_type": "code",
   "execution_count": null,
   "metadata": {},
   "outputs": [],
   "source": []
  }
 ],
 "metadata": {
  "kernelspec": {
   "display_name": "Python 3",
   "language": "python",
   "name": "python3"
  },
  "language_info": {
   "codemirror_mode": {
    "name": "ipython",
    "version": 3
   },
   "file_extension": ".py",
   "mimetype": "text/x-python",
   "name": "python",
   "nbconvert_exporter": "python",
   "pygments_lexer": "ipython3",
   "version": "3.5.2"
  }
 },
 "nbformat": 4,
 "nbformat_minor": 4
}
